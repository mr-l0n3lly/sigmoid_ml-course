{
 "cells": [
  {
   "cell_type": "markdown",
   "source": [
    "## Import needed library"
   ],
   "metadata": {
    "collapsed": false
   }
  },
  {
   "cell_type": "code",
   "execution_count": 308,
   "metadata": {
    "collapsed": true
   },
   "outputs": [],
   "source": [
    "import pandas as pd\n",
    "from pandas import DataFrame, Series\n",
    "import os\n",
    "from typing import Any"
   ]
  },
  {
   "cell_type": "markdown",
   "source": [
    "## Defining constants"
   ],
   "metadata": {
    "collapsed": false
   }
  },
  {
   "cell_type": "code",
   "execution_count": 309,
   "outputs": [],
   "source": [
    "DATASET = \"heart.csv\"\n",
    "TARGET_COLUMN = \"target\" # in homework target column is target but can be changed on something else"
   ],
   "metadata": {
    "collapsed": false
   }
  },
  {
   "cell_type": "markdown",
   "source": [
    "## Open dataset"
   ],
   "metadata": {
    "collapsed": false
   }
  },
  {
   "cell_type": "code",
   "execution_count": 310,
   "outputs": [],
   "source": [
    "df = pd.read_csv(os.path.join(os.getcwd(), \"dataset\", DATASET))"
   ],
   "metadata": {
    "collapsed": false
   }
  },
  {
   "cell_type": "markdown",
   "source": [
    "## Creating meaning calculation function"
   ],
   "metadata": {
    "collapsed": false
   }
  },
  {
   "cell_type": "code",
   "execution_count": 311,
   "outputs": [],
   "source": [
    "def calculate_mean(d: DataFrame, target: str) -> int:\n",
    "    \"\"\"\n",
    "    Calculate average value of target column\n",
    "    :param d: pandas dataframe\n",
    "    :param target: column from dataframe\n",
    "    :return: average value\n",
    "    \"\"\"\n",
    "\n",
    "    if target in d.columns:\n",
    "        return d[target].mean()\n",
    "\n",
    "    raise Exception(f\"{target} is not present in dataframe\")"
   ],
   "metadata": {
    "collapsed": false
   }
  },
  {
   "cell_type": "markdown",
   "source": [
    "## Creating median calculation function"
   ],
   "metadata": {
    "collapsed": false
   }
  },
  {
   "cell_type": "code",
   "execution_count": 312,
   "outputs": [],
   "source": [
    "def calculate_median(d: DataFrame, target: str) -> float:\n",
    "    \"\"\"\n",
    "    Calculate mid value in target column\n",
    "    :param d: pandas dataframe\n",
    "    :param target: column from dataframe\n",
    "    :return: mid value\n",
    "    \"\"\"\n",
    "\n",
    "    if target in d.columns:\n",
    "        return d[target].median()\n",
    "\n",
    "    raise Exception(f\"{target} is not present in dataframe\")"
   ],
   "metadata": {
    "collapsed": false
   }
  },
  {
   "cell_type": "markdown",
   "source": [
    "## Calculate the most common value (mode)"
   ],
   "metadata": {
    "collapsed": false
   }
  },
  {
   "cell_type": "code",
   "execution_count": 313,
   "outputs": [],
   "source": [
    "def calculate_mode(d: DataFrame, target: str) -> Series:\n",
    "    \"\"\"\n",
    "    Calculate most common value in target column\n",
    "    :param d: pandas dataframe\n",
    "    :param target: column from dataframe\n",
    "    :return: most common value\n",
    "    \"\"\"\n",
    "\n",
    "    if target in d.columns:\n",
    "        return d[target].mode()\n",
    "\n",
    "    raise Exception(f\"{target} is not present in dataframe\")"
   ],
   "metadata": {
    "collapsed": false
   }
  },
  {
   "cell_type": "markdown",
   "source": [
    "## Calculate the standard deviation"
   ],
   "metadata": {
    "collapsed": false
   }
  },
  {
   "cell_type": "code",
   "execution_count": 314,
   "outputs": [],
   "source": [
    "def calculate_std(d: DataFrame, target: str) -> float:\n",
    "    \"\"\"\n",
    "    Calculate the standard deviation of provided column\n",
    "    :param d: pandas dataframe\n",
    "    :param target: column from dataframe\n",
    "    :return: standard deviation\n",
    "    \"\"\"\n",
    "\n",
    "    if target in d.columns:\n",
    "        return d[target].std()\n",
    "\n",
    "    raise Exception(f\"{target} is not present in dataframe\")"
   ],
   "metadata": {
    "collapsed": false
   }
  },
  {
   "cell_type": "markdown",
   "source": [
    "## Calculate column variation"
   ],
   "metadata": {
    "collapsed": false
   }
  },
  {
   "cell_type": "code",
   "execution_count": 315,
   "outputs": [],
   "source": [
    "def calculate_var(d: DataFrame, target: str) -> float:\n",
    "    \"\"\"\n",
    "    Calculate column variation in a provided dataframe\n",
    "    :param d: pandas dataframe\n",
    "    :param target: column from dataframe\n",
    "    :return: variation\n",
    "    \"\"\"\n",
    "\n",
    "    if target in d.columns:\n",
    "        return d[target].var()\n",
    "\n",
    "    raise Exception(f\"{target} is not present in dataframe\")"
   ],
   "metadata": {
    "collapsed": false
   }
  },
  {
   "cell_type": "markdown",
   "source": [
    "## Get a range of values"
   ],
   "metadata": {
    "collapsed": false
   }
  },
  {
   "cell_type": "code",
   "execution_count": 316,
   "outputs": [],
   "source": [
    "def get_values_range(d: DataFrame, target: str, r: (float, float), inclusive: str) -> list[Any]:\n",
    "    \"\"\"\n",
    "    Get all values between provided range\n",
    "    :param d: pandas dataframe\n",
    "    :param target: column from dataframe\n",
    "    :param r: range of min, max value to select values\n",
    "    :param inclusive: to include min, max value or not (\"both\", \"neither\", \"left\", \"right\")\n",
    "    :return: a new list with values from min to max\n",
    "    \"\"\"\n",
    "\n",
    "    if target in d.columns:\n",
    "        if r[0] > r[1]:\n",
    "            raise Exception(\"invalid range values\")\n",
    "\n",
    "        values = d[target].between(r[0], r[1], inclusive=inclusive)\n",
    "        return [d[target][i] for i in range(len(values)) if values[i] == True]\n",
    "\n",
    "    raise Exception(f\"{target} is not present in dataframe\")"
   ],
   "metadata": {
    "collapsed": false
   }
  },
  {
   "cell_type": "markdown",
   "source": [
    "## Get the highest correlation from target column and another column from df"
   ],
   "metadata": {
    "collapsed": false
   }
  },
  {
   "cell_type": "code",
   "execution_count": 317,
   "outputs": [],
   "source": [
    "def get_highest_corr(d: DataFrame, target: str) -> float:\n",
    "    \"\"\"\n",
    "    Get the highest correlation from target column and another column from df\n",
    "    :param d: pandas dataframe\n",
    "    :param target: column from dataframe\n",
    "    :return: highest corr with another column\n",
    "    \"\"\"\n",
    "\n",
    "    if target in d.columns:\n",
    "        # Drop row with target name, because its always 1\n",
    "        return (d.corr()[target].drop(target, axis=0)).max()\n",
    "\n",
    "    raise Exception(f\"{target} is not present in dataframe\")"
   ],
   "metadata": {
    "collapsed": false
   }
  },
  {
   "cell_type": "markdown",
   "source": [
    "## Putting all together"
   ],
   "metadata": {
    "collapsed": false
   }
  },
  {
   "cell_type": "code",
   "execution_count": 318,
   "outputs": [
    {
     "name": "stdout",
     "output_type": "stream",
     "text": [
      "=========================\n",
      "Target: target\n",
      "Mean: 0.5445544554455446\n",
      "Median: 1.0\n",
      "Mode: [1]\n",
      "Variance: 0.24883614189233488\n",
      "Standard deviation: 0.4988347841643913\n",
      "Get range between -0.5 and 0.5: [0, 0, 0, 0, 0, 0, 0, 0, 0, 0, 0, 0, 0, 0, 0, 0, 0, 0, 0, 0, 0, 0, 0, 0, 0, 0, 0, 0, 0, 0, 0, 0, 0, 0, 0, 0, 0, 0, 0, 0, 0, 0, 0, 0, 0, 0, 0, 0, 0, 0, 0, 0, 0, 0, 0, 0, 0, 0, 0, 0, 0, 0, 0, 0, 0, 0, 0, 0, 0, 0, 0, 0, 0, 0, 0, 0, 0, 0, 0, 0, 0, 0, 0, 0, 0, 0, 0, 0, 0, 0, 0, 0, 0, 0, 0, 0, 0, 0, 0, 0, 0, 0, 0, 0, 0, 0, 0, 0, 0, 0, 0, 0, 0, 0, 0, 0, 0, 0, 0, 0, 0, 0, 0, 0, 0, 0, 0, 0, 0, 0, 0, 0, 0, 0, 0, 0, 0, 0]\n",
      "Get highest correlation: 0.43379826150689443\n",
      "=========================\n"
     ]
    }
   ],
   "source": [
    "try:\n",
    "    print(\"=========================\")\n",
    "    print(f\"Target: {TARGET_COLUMN}\")\n",
    "    print(f\"Mean: {calculate_mean(df, TARGET_COLUMN)}\")\n",
    "    print(f\"Median: {calculate_median(df, TARGET_COLUMN)}\")\n",
    "    print(f\"Mode: {list(calculate_mode(df, TARGET_COLUMN))}\")\n",
    "    print(f\"Variance: {calculate_var(df, TARGET_COLUMN)}\")\n",
    "    print(f\"Standard deviation: {calculate_std(df, TARGET_COLUMN)}\")\n",
    "\n",
    "    # output is an array of 0 because all values from current target column are 1 and 0\n",
    "    # so 0 is only between -0.5 and 0.5\n",
    "    print(f\"Get range between -0.5 and 0.5: {list(get_values_range(df, TARGET_COLUMN, (-0.5, 0.5), 'both'))}\")\n",
    "\n",
    "    print(f\"Get highest correlation: {get_highest_corr(df, TARGET_COLUMN)}\")\n",
    "    print(\"=========================\")\n",
    "\n",
    "except Exception as e:\n",
    "    print(\"something went wrong: \", e)"
   ],
   "metadata": {
    "collapsed": false
   }
  }
 ],
 "metadata": {
  "kernelspec": {
   "display_name": "Python 3",
   "language": "python",
   "name": "python3"
  },
  "language_info": {
   "codemirror_mode": {
    "name": "ipython",
    "version": 2
   },
   "file_extension": ".py",
   "mimetype": "text/x-python",
   "name": "python",
   "nbconvert_exporter": "python",
   "pygments_lexer": "ipython2",
   "version": "2.7.6"
  }
 },
 "nbformat": 4,
 "nbformat_minor": 0
}
