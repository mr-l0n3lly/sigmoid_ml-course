{
 "cells": [
  {
   "cell_type": "code",
   "execution_count": 10,
   "outputs": [],
   "source": [
    "import numpy as np"
   ],
   "metadata": {
    "collapsed": false
   }
  },
  {
   "cell_type": "markdown",
   "source": [
    "### Normal Distribution"
   ],
   "metadata": {
    "collapsed": false
   }
  },
  {
   "cell_type": "code",
   "execution_count": 11,
   "outputs": [],
   "source": [
    "def normal_distribution(x: float, mu: float, sigma: float) -> float:\n",
    "    \"\"\"\n",
    "    Normal distribution allows to get the probability of getting a value from a numerical series knowing the mean\n",
    "    and standard deviation of the series\n",
    "    :param x: a float value\n",
    "    :param mu: a float value (represents the mean of the series)\n",
    "    :param sigma: a float value (represents the standard deviation of the series)\n",
    "    :return: probability of getting a value from series\n",
    "    \"\"\"\n",
    "    exp_exponent = -(1 / 2) * np.power((x - mu) / sigma, 2)\n",
    "\n",
    "    n = 1 / (sigma * np.sqrt(2 * np.pi)) * np.exp(exp_exponent)\n",
    "\n",
    "    return n"
   ],
   "metadata": {
    "collapsed": false
   }
  },
  {
   "cell_type": "markdown",
   "source": [
    "### Sigmoid Function"
   ],
   "metadata": {
    "collapsed": false
   }
  },
  {
   "cell_type": "code",
   "execution_count": 12,
   "outputs": [],
   "source": [
    "def sigmoid(y: float) -> float:\n",
    "    \"\"\"\n",
    "    Sigmoid function is used when you need to convert real numbers into probabilities, or from an -inf to +inf\n",
    "    range into 0 to 1 range\n",
    "    :param y: a real numeric value\n",
    "    :return: converted number to probability\n",
    "    \"\"\"\n",
    "    sigma = 1 / (1 + np.exp(-y))\n",
    "\n",
    "    return sigma"
   ],
   "metadata": {
    "collapsed": false
   }
  },
  {
   "cell_type": "markdown",
   "source": [
    "### Weights update in Logistic Regression"
   ],
   "metadata": {
    "collapsed": false
   }
  },
  {
   "cell_type": "code",
   "execution_count": 13,
   "outputs": [],
   "source": [
    "def weights_update(w: np.array, x: np.matrix, prediction: np.array, target: np.array, alfa: float = 0.0005) -> np.array:\n",
    "    \"\"\"\n",
    "    Calculate weight updated array for logistic regression\n",
    "    :param w: weight array\n",
    "    :param x: np matrix\n",
    "    :param prediction: predicted output from an AI\n",
    "    :param target: target result\n",
    "    :param alfa: learning rate default 0.0005\n",
    "    :return: a new weight array\n",
    "    \"\"\"\n",
    "    n = len(x)\n",
    "    w_update = np.copy(w)\n",
    "\n",
    "    for i in range(0, len(x)):\n",
    "        for j in range(0, len(x[i])):\n",
    "            w_update[j] = w_update[j] - alfa * (1 / n) * (target[i] - prediction[i]) * x[i][j]\n",
    "    return w_update"
   ],
   "metadata": {
    "collapsed": false
   }
  },
  {
   "cell_type": "markdown",
   "source": [
    "### Mean Squared Error"
   ],
   "metadata": {
    "collapsed": false
   }
  },
  {
   "cell_type": "code",
   "execution_count": 14,
   "outputs": [],
   "source": [
    "def mean_square_error(target: np.array, predictions: np.array) -> np.array:\n",
    "    \"\"\"\n",
    "    Measures the average of the squares of the errors—that is, the average squared difference\n",
    "    between the estimated values and the actual value\n",
    "    :param target:\n",
    "    :param predictions:\n",
    "    :return: difference between estimated value and actual value\n",
    "    \"\"\"\n",
    "    n = len(target)\n",
    "\n",
    "    if len(target) != len(predictions):\n",
    "        raise Exception(\"wrong array lengths, need to be same\")\n",
    "\n",
    "    mse = (1 / n) * np.sum([np.power(predictions[i] - target[i], 2) for i in range(0, n)])\n",
    "\n",
    "    return mse"
   ],
   "metadata": {
    "collapsed": false
   }
  },
  {
   "cell_type": "markdown",
   "source": [
    "# Testing the functions\n",
    "---\n",
    "\n",
    "Testing normal distribution"
   ],
   "metadata": {
    "collapsed": false
   }
  },
  {
   "cell_type": "code",
   "execution_count": 15,
   "outputs": [
    {
     "name": "stdout",
     "output_type": "stream",
     "text": [
      "0.05883486219309628\n",
      "0.014302707562336196\n"
     ]
    }
   ],
   "source": [
    "x1 = np.array([ 1, 3, 5, 7, 9, 11])\n",
    "\n",
    "# Normal distribution\n",
    "print(normal_distribution(2, x1.mean(), x1.std()))\n",
    "print(normal_distribution(13, x1.mean(), x1.std()))"
   ],
   "metadata": {
    "collapsed": false
   }
  },
  {
   "cell_type": "markdown",
   "source": [
    "Testing sigmoid function"
   ],
   "metadata": {
    "collapsed": false
   }
  },
  {
   "cell_type": "code",
   "execution_count": 16,
   "outputs": [
    {
     "name": "stdout",
     "output_type": "stream",
     "text": [
      "0.5\n"
     ]
    }
   ],
   "source": [
    "print(sigmoid(0)) # need to be 0.5"
   ],
   "metadata": {
    "collapsed": false
   }
  },
  {
   "cell_type": "markdown",
   "source": [
    "Testing weight update function"
   ],
   "metadata": {
    "collapsed": false
   }
  },
  {
   "cell_type": "code",
   "execution_count": 17,
   "outputs": [
    {
     "name": "stdout",
     "output_type": "stream",
     "text": [
      "[0 2 4]\n"
     ]
    }
   ],
   "source": [
    "w = np.array([1, 3, 5])\n",
    "# A matrix with columns ( sex, age, school mark)\n",
    "x = np.array([\n",
    "        [1, 15, 10],\n",
    "        [1, 14, 9],\n",
    "        [0, 15, 8.9],\n",
    "    ])\n",
    "\n",
    "# predicted by our algo\n",
    "predicted = [1, 0, 0]\n",
    "\n",
    "# predicted by AI\n",
    "target = [1, 1, 0]\n",
    "\n",
    "print(weights_update(w, x, predicted, target)) # I don't know real output, and real correct input"
   ],
   "metadata": {
    "collapsed": false
   }
  },
  {
   "cell_type": "markdown",
   "source": [
    "Testing mean squared error"
   ],
   "metadata": {
    "collapsed": false
   }
  },
  {
   "cell_type": "code",
   "execution_count": 18,
   "outputs": [
    {
     "name": "stdout",
     "output_type": "stream",
     "text": [
      "0.3333333333333333\n"
     ]
    }
   ],
   "source": [
    "# predicted by our algo\n",
    "predicted = [1, 0, 0]\n",
    "\n",
    "# predicted by AI\n",
    "target = [1, 1, 0]\n",
    "\n",
    "print(mean_square_error(target, predicted))"
   ],
   "metadata": {
    "collapsed": false
   }
  }
 ],
 "metadata": {
  "kernelspec": {
   "display_name": "Python 3",
   "language": "python",
   "name": "python3"
  },
  "language_info": {
   "codemirror_mode": {
    "name": "ipython",
    "version": 2
   },
   "file_extension": ".py",
   "mimetype": "text/x-python",
   "name": "python",
   "nbconvert_exporter": "python",
   "pygments_lexer": "ipython2",
   "version": "2.7.6"
  }
 },
 "nbformat": 4,
 "nbformat_minor": 0
}
